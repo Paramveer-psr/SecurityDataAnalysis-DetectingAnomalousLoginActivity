{
 "cells": [
  {
   "cell_type": "markdown",
   "id": "9f74adc8",
   "metadata": {},
   "source": [
    "# Security Data Analysis - Detecting Anomalous Login Activity"
   ]
  },
  {
   "cell_type": "markdown",
   "id": "44725303",
   "metadata": {},
   "source": [
    "## Task 1 : Data Preprocessing"
   ]
  },
  {
   "cell_type": "markdown",
   "id": "e62b04e0",
   "metadata": {},
   "source": [
    "**OBJECTIVES:**\n",
    " - Load the dataset into a Pandas DataFrame.\n",
    " - Check for missing values and handle them appropriately.\n",
    " - Convert the timestamp to a suitable format for analysis."
   ]
  },
  {
   "cell_type": "code",
   "execution_count": 1,
   "id": "d1a1be67",
   "metadata": {},
   "outputs": [
    {
     "data": {
      "text/html": [
       "<div>\n",
       "<style scoped>\n",
       "    .dataframe tbody tr th:only-of-type {\n",
       "        vertical-align: middle;\n",
       "    }\n",
       "\n",
       "    .dataframe tbody tr th {\n",
       "        vertical-align: top;\n",
       "    }\n",
       "\n",
       "    .dataframe thead th {\n",
       "        text-align: right;\n",
       "    }\n",
       "</style>\n",
       "<table border=\"1\" class=\"dataframe\">\n",
       "  <thead>\n",
       "    <tr style=\"text-align: right;\">\n",
       "      <th></th>\n",
       "      <th>Month</th>\n",
       "      <th>DayOftheMonth</th>\n",
       "      <th>Time</th>\n",
       "      <th>Username</th>\n",
       "      <th>IPAddress</th>\n",
       "      <th>Port</th>\n",
       "      <th>Login Status</th>\n",
       "    </tr>\n",
       "  </thead>\n",
       "  <tbody>\n",
       "    <tr>\n",
       "      <th>0</th>\n",
       "      <td>Mar</td>\n",
       "      <td>6</td>\n",
       "      <td>6:25:24</td>\n",
       "      <td>root</td>\n",
       "      <td>20.187.88.188</td>\n",
       "      <td>59126</td>\n",
       "      <td>False</td>\n",
       "    </tr>\n",
       "    <tr>\n",
       "      <th>1</th>\n",
       "      <td>Mar</td>\n",
       "      <td>6</td>\n",
       "      <td>6:25:25</td>\n",
       "      <td>leonardo</td>\n",
       "      <td>161.82.233.179</td>\n",
       "      <td>44304</td>\n",
       "      <td>True</td>\n",
       "    </tr>\n",
       "    <tr>\n",
       "      <th>2</th>\n",
       "      <td>Mar</td>\n",
       "      <td>6</td>\n",
       "      <td>6:25:35</td>\n",
       "      <td>master</td>\n",
       "      <td>49.234.24.246</td>\n",
       "      <td>50730</td>\n",
       "      <td>False</td>\n",
       "    </tr>\n",
       "    <tr>\n",
       "      <th>3</th>\n",
       "      <td>Mar</td>\n",
       "      <td>6</td>\n",
       "      <td>6:25:37</td>\n",
       "      <td>root</td>\n",
       "      <td>183.88.189.109</td>\n",
       "      <td>50401</td>\n",
       "      <td>False</td>\n",
       "    </tr>\n",
       "    <tr>\n",
       "      <th>4</th>\n",
       "      <td>Mar</td>\n",
       "      <td>6</td>\n",
       "      <td>6:26:07</td>\n",
       "      <td>root</td>\n",
       "      <td>154.221.19.60</td>\n",
       "      <td>53614</td>\n",
       "      <td>False</td>\n",
       "    </tr>\n",
       "  </tbody>\n",
       "</table>\n",
       "</div>"
      ],
      "text/plain": [
       "  Month  DayOftheMonth     Time  Username       IPAddress   Port  Login Status\n",
       "0   Mar              6  6:25:24      root   20.187.88.188  59126         False\n",
       "1   Mar              6  6:25:25  leonardo  161.82.233.179  44304          True\n",
       "2   Mar              6  6:25:35    master   49.234.24.246  50730         False\n",
       "3   Mar              6  6:25:37      root  183.88.189.109  50401         False\n",
       "4   Mar              6  6:26:07      root   154.221.19.60  53614         False"
      ]
     },
     "execution_count": 1,
     "metadata": {},
     "output_type": "execute_result"
    }
   ],
   "source": [
    "#To analyse the data these modules like pandas,numpy and matplotlib are used.\n",
    "#They help in data analysis and visualization\n",
    "import pandas as pd\n",
    "import numpy as np\n",
    "from matplotlib import pyplot as plt\n",
    "#Importing data from csv\n",
    "data=pd.read_csv('datasetda.csv')\n",
    "data.head()"
   ]
  },
  {
   "cell_type": "code",
   "execution_count": 2,
   "id": "df104e65",
   "metadata": {},
   "outputs": [
    {
     "name": "stdout",
     "output_type": "stream",
     "text": [
      "<class 'pandas.core.frame.DataFrame'>\n",
      "RangeIndex: 173482 entries, 0 to 173481\n",
      "Data columns (total 7 columns):\n",
      " #   Column         Non-Null Count   Dtype \n",
      "---  ------         --------------   ----- \n",
      " 0   Month          173482 non-null  object\n",
      " 1   DayOftheMonth  173482 non-null  int64 \n",
      " 2   Time           173482 non-null  object\n",
      " 3   Username       173418 non-null  object\n",
      " 4   IPAddress      173482 non-null  object\n",
      " 5   Port           173482 non-null  int64 \n",
      " 6   Login Status   173482 non-null  bool  \n",
      "dtypes: bool(1), int64(2), object(4)\n",
      "memory usage: 8.1+ MB\n"
     ]
    }
   ],
   "source": [
    "#this function return the information regarding the imported dataframe\n",
    "data.info()"
   ]
  },
  {
   "cell_type": "code",
   "execution_count": 80,
   "id": "2b0c00a1",
   "metadata": {},
   "outputs": [
    {
     "data": {
      "text/html": [
       "<div>\n",
       "<style scoped>\n",
       "    .dataframe tbody tr th:only-of-type {\n",
       "        vertical-align: middle;\n",
       "    }\n",
       "\n",
       "    .dataframe tbody tr th {\n",
       "        vertical-align: top;\n",
       "    }\n",
       "\n",
       "    .dataframe thead th {\n",
       "        text-align: right;\n",
       "    }\n",
       "</style>\n",
       "<table border=\"1\" class=\"dataframe\">\n",
       "  <thead>\n",
       "    <tr style=\"text-align: right;\">\n",
       "      <th></th>\n",
       "      <th>Month</th>\n",
       "      <th>DayOftheMonth</th>\n",
       "      <th>Time</th>\n",
       "      <th>Username</th>\n",
       "      <th>IPAddress</th>\n",
       "      <th>Port</th>\n",
       "      <th>Login Status</th>\n",
       "    </tr>\n",
       "  </thead>\n",
       "  <tbody>\n",
       "    <tr>\n",
       "      <th>0</th>\n",
       "      <td>False</td>\n",
       "      <td>False</td>\n",
       "      <td>False</td>\n",
       "      <td>False</td>\n",
       "      <td>False</td>\n",
       "      <td>False</td>\n",
       "      <td>False</td>\n",
       "    </tr>\n",
       "    <tr>\n",
       "      <th>1</th>\n",
       "      <td>False</td>\n",
       "      <td>False</td>\n",
       "      <td>False</td>\n",
       "      <td>False</td>\n",
       "      <td>False</td>\n",
       "      <td>False</td>\n",
       "      <td>False</td>\n",
       "    </tr>\n",
       "    <tr>\n",
       "      <th>2</th>\n",
       "      <td>False</td>\n",
       "      <td>False</td>\n",
       "      <td>False</td>\n",
       "      <td>False</td>\n",
       "      <td>False</td>\n",
       "      <td>False</td>\n",
       "      <td>False</td>\n",
       "    </tr>\n",
       "    <tr>\n",
       "      <th>3</th>\n",
       "      <td>False</td>\n",
       "      <td>False</td>\n",
       "      <td>False</td>\n",
       "      <td>False</td>\n",
       "      <td>False</td>\n",
       "      <td>False</td>\n",
       "      <td>False</td>\n",
       "    </tr>\n",
       "    <tr>\n",
       "      <th>4</th>\n",
       "      <td>False</td>\n",
       "      <td>False</td>\n",
       "      <td>False</td>\n",
       "      <td>False</td>\n",
       "      <td>False</td>\n",
       "      <td>False</td>\n",
       "      <td>False</td>\n",
       "    </tr>\n",
       "    <tr>\n",
       "      <th>...</th>\n",
       "      <td>...</td>\n",
       "      <td>...</td>\n",
       "      <td>...</td>\n",
       "      <td>...</td>\n",
       "      <td>...</td>\n",
       "      <td>...</td>\n",
       "      <td>...</td>\n",
       "    </tr>\n",
       "    <tr>\n",
       "      <th>173477</th>\n",
       "      <td>False</td>\n",
       "      <td>False</td>\n",
       "      <td>False</td>\n",
       "      <td>False</td>\n",
       "      <td>False</td>\n",
       "      <td>False</td>\n",
       "      <td>False</td>\n",
       "    </tr>\n",
       "    <tr>\n",
       "      <th>173478</th>\n",
       "      <td>False</td>\n",
       "      <td>False</td>\n",
       "      <td>False</td>\n",
       "      <td>False</td>\n",
       "      <td>False</td>\n",
       "      <td>False</td>\n",
       "      <td>False</td>\n",
       "    </tr>\n",
       "    <tr>\n",
       "      <th>173479</th>\n",
       "      <td>False</td>\n",
       "      <td>False</td>\n",
       "      <td>False</td>\n",
       "      <td>False</td>\n",
       "      <td>False</td>\n",
       "      <td>False</td>\n",
       "      <td>False</td>\n",
       "    </tr>\n",
       "    <tr>\n",
       "      <th>173480</th>\n",
       "      <td>False</td>\n",
       "      <td>False</td>\n",
       "      <td>False</td>\n",
       "      <td>False</td>\n",
       "      <td>False</td>\n",
       "      <td>False</td>\n",
       "      <td>False</td>\n",
       "    </tr>\n",
       "    <tr>\n",
       "      <th>173481</th>\n",
       "      <td>False</td>\n",
       "      <td>False</td>\n",
       "      <td>False</td>\n",
       "      <td>False</td>\n",
       "      <td>False</td>\n",
       "      <td>False</td>\n",
       "      <td>False</td>\n",
       "    </tr>\n",
       "  </tbody>\n",
       "</table>\n",
       "<p>173482 rows × 7 columns</p>\n",
       "</div>"
      ],
      "text/plain": [
       "        Month  DayOftheMonth   Time  Username  IPAddress   Port  Login Status\n",
       "0       False          False  False     False      False  False         False\n",
       "1       False          False  False     False      False  False         False\n",
       "2       False          False  False     False      False  False         False\n",
       "3       False          False  False     False      False  False         False\n",
       "4       False          False  False     False      False  False         False\n",
       "...       ...            ...    ...       ...        ...    ...           ...\n",
       "173477  False          False  False     False      False  False         False\n",
       "173478  False          False  False     False      False  False         False\n",
       "173479  False          False  False     False      False  False         False\n",
       "173480  False          False  False     False      False  False         False\n",
       "173481  False          False  False     False      False  False         False\n",
       "\n",
       "[173482 rows x 7 columns]"
      ]
     },
     "execution_count": 80,
     "metadata": {},
     "output_type": "execute_result"
    }
   ],
   "source": [
    "#This function is used to check for any null values in the dataframe.\n",
    "data.isnull()"
   ]
  },
  {
   "cell_type": "code",
   "execution_count": 5,
   "id": "9754e983",
   "metadata": {},
   "outputs": [
    {
     "data": {
      "text/html": [
       "<div>\n",
       "<style scoped>\n",
       "    .dataframe tbody tr th:only-of-type {\n",
       "        vertical-align: middle;\n",
       "    }\n",
       "\n",
       "    .dataframe tbody tr th {\n",
       "        vertical-align: top;\n",
       "    }\n",
       "\n",
       "    .dataframe thead th {\n",
       "        text-align: right;\n",
       "    }\n",
       "</style>\n",
       "<table border=\"1\" class=\"dataframe\">\n",
       "  <thead>\n",
       "    <tr style=\"text-align: right;\">\n",
       "      <th></th>\n",
       "      <th>Month</th>\n",
       "      <th>DayOftheMonth</th>\n",
       "      <th>Time</th>\n",
       "      <th>Username</th>\n",
       "      <th>IPAddress</th>\n",
       "      <th>Port</th>\n",
       "      <th>Login Status</th>\n",
       "    </tr>\n",
       "  </thead>\n",
       "  <tbody>\n",
       "    <tr>\n",
       "      <th>0</th>\n",
       "      <td>Mar</td>\n",
       "      <td>6</td>\n",
       "      <td>6:25:24</td>\n",
       "      <td>root</td>\n",
       "      <td>20.187.88.188</td>\n",
       "      <td>59126</td>\n",
       "      <td>False</td>\n",
       "    </tr>\n",
       "    <tr>\n",
       "      <th>1</th>\n",
       "      <td>Mar</td>\n",
       "      <td>6</td>\n",
       "      <td>6:25:25</td>\n",
       "      <td>leonardo</td>\n",
       "      <td>161.82.233.179</td>\n",
       "      <td>44304</td>\n",
       "      <td>True</td>\n",
       "    </tr>\n",
       "    <tr>\n",
       "      <th>2</th>\n",
       "      <td>Mar</td>\n",
       "      <td>6</td>\n",
       "      <td>6:25:35</td>\n",
       "      <td>master</td>\n",
       "      <td>49.234.24.246</td>\n",
       "      <td>50730</td>\n",
       "      <td>False</td>\n",
       "    </tr>\n",
       "    <tr>\n",
       "      <th>3</th>\n",
       "      <td>Mar</td>\n",
       "      <td>6</td>\n",
       "      <td>6:25:37</td>\n",
       "      <td>root</td>\n",
       "      <td>183.88.189.109</td>\n",
       "      <td>50401</td>\n",
       "      <td>False</td>\n",
       "    </tr>\n",
       "    <tr>\n",
       "      <th>4</th>\n",
       "      <td>Mar</td>\n",
       "      <td>6</td>\n",
       "      <td>6:26:07</td>\n",
       "      <td>root</td>\n",
       "      <td>154.221.19.60</td>\n",
       "      <td>53614</td>\n",
       "      <td>False</td>\n",
       "    </tr>\n",
       "  </tbody>\n",
       "</table>\n",
       "</div>"
      ],
      "text/plain": [
       "  Month  DayOftheMonth     Time  Username       IPAddress   Port  Login Status\n",
       "0   Mar              6  6:25:24      root   20.187.88.188  59126         False\n",
       "1   Mar              6  6:25:25  leonardo  161.82.233.179  44304          True\n",
       "2   Mar              6  6:25:35    master   49.234.24.246  50730         False\n",
       "3   Mar              6  6:25:37      root  183.88.189.109  50401         False\n",
       "4   Mar              6  6:26:07      root   154.221.19.60  53614         False"
      ]
     },
     "execution_count": 5,
     "metadata": {},
     "output_type": "execute_result"
    }
   ],
   "source": [
    "#This function gives us the view of first few elements.\n",
    "data.head()"
   ]
  },
  {
   "cell_type": "markdown",
   "id": "e41c7347",
   "metadata": {},
   "source": [
    "## Task 2 : Exploratory Data Analysis   (EDA)"
   ]
  },
  {
   "cell_type": "markdown",
   "id": "9e57fa12",
   "metadata": {},
   "source": [
    "**OBJECTIVES:**\n",
    "\n",
    " - Perform basic statistical analysis on the data (e.g., login frequency, login success rate, etc.).\n",
    " - Visualize login patterns over time (e.g., login attempts per day/hour).\n",
    " - Visualize login success rate based on different factors (e.g., IP address, user ID).\n"
   ]
  },
  {
   "cell_type": "code",
   "execution_count": 78,
   "id": "ca2bc6fb",
   "metadata": {},
   "outputs": [
    {
     "data": {
      "text/html": [
       "<div>\n",
       "<style scoped>\n",
       "    .dataframe tbody tr th:only-of-type {\n",
       "        vertical-align: middle;\n",
       "    }\n",
       "\n",
       "    .dataframe tbody tr th {\n",
       "        vertical-align: top;\n",
       "    }\n",
       "\n",
       "    .dataframe thead th {\n",
       "        text-align: right;\n",
       "    }\n",
       "</style>\n",
       "<table border=\"1\" class=\"dataframe\">\n",
       "  <thead>\n",
       "    <tr style=\"text-align: right;\">\n",
       "      <th></th>\n",
       "      <th>DayOftheMonth</th>\n",
       "      <th>Port</th>\n",
       "    </tr>\n",
       "  </thead>\n",
       "  <tbody>\n",
       "    <tr>\n",
       "      <th>count</th>\n",
       "      <td>173482.000000</td>\n",
       "      <td>173482.000000</td>\n",
       "    </tr>\n",
       "    <tr>\n",
       "      <th>mean</th>\n",
       "      <td>14.490841</td>\n",
       "      <td>45111.854780</td>\n",
       "    </tr>\n",
       "    <tr>\n",
       "      <th>std</th>\n",
       "      <td>8.883837</td>\n",
       "      <td>11237.210581</td>\n",
       "    </tr>\n",
       "    <tr>\n",
       "      <th>min</th>\n",
       "      <td>1.000000</td>\n",
       "      <td>22.000000</td>\n",
       "    </tr>\n",
       "    <tr>\n",
       "      <th>25%</th>\n",
       "      <td>6.000000</td>\n",
       "      <td>38392.000000</td>\n",
       "    </tr>\n",
       "    <tr>\n",
       "      <th>50%</th>\n",
       "      <td>14.000000</td>\n",
       "      <td>46158.000000</td>\n",
       "    </tr>\n",
       "    <tr>\n",
       "      <th>75%</th>\n",
       "      <td>23.000000</td>\n",
       "      <td>53730.000000</td>\n",
       "    </tr>\n",
       "    <tr>\n",
       "      <th>max</th>\n",
       "      <td>28.000000</td>\n",
       "      <td>65530.000000</td>\n",
       "    </tr>\n",
       "  </tbody>\n",
       "</table>\n",
       "</div>"
      ],
      "text/plain": [
       "       DayOftheMonth           Port\n",
       "count  173482.000000  173482.000000\n",
       "mean       14.490841   45111.854780\n",
       "std         8.883837   11237.210581\n",
       "min         1.000000      22.000000\n",
       "25%         6.000000   38392.000000\n",
       "50%        14.000000   46158.000000\n",
       "75%        23.000000   53730.000000\n",
       "max        28.000000   65530.000000"
      ]
     },
     "execution_count": 78,
     "metadata": {},
     "output_type": "execute_result"
    }
   ],
   "source": [
    "#This method is used to determine the statistical analysis of the dataframe.\n",
    "data.describe()"
   ]
  },
  {
   "cell_type": "code",
   "execution_count": 8,
   "id": "b26a5215",
   "metadata": {},
   "outputs": [
    {
     "data": {
      "text/html": [
       "<div>\n",
       "<style scoped>\n",
       "    .dataframe tbody tr th:only-of-type {\n",
       "        vertical-align: middle;\n",
       "    }\n",
       "\n",
       "    .dataframe tbody tr th {\n",
       "        vertical-align: top;\n",
       "    }\n",
       "\n",
       "    .dataframe thead th {\n",
       "        text-align: right;\n",
       "    }\n",
       "</style>\n",
       "<table border=\"1\" class=\"dataframe\">\n",
       "  <thead>\n",
       "    <tr style=\"text-align: right;\">\n",
       "      <th></th>\n",
       "      <th>Month</th>\n",
       "      <th>DayOftheMonth</th>\n",
       "      <th>Time</th>\n",
       "      <th>Username</th>\n",
       "      <th>IPAddress</th>\n",
       "      <th>Port</th>\n",
       "      <th>Login Status</th>\n",
       "    </tr>\n",
       "  </thead>\n",
       "  <tbody>\n",
       "    <tr>\n",
       "      <th>0</th>\n",
       "      <td>Mar</td>\n",
       "      <td>6</td>\n",
       "      <td>6:25:24</td>\n",
       "      <td>root</td>\n",
       "      <td>20.187.88.188</td>\n",
       "      <td>59126</td>\n",
       "      <td>False</td>\n",
       "    </tr>\n",
       "    <tr>\n",
       "      <th>1</th>\n",
       "      <td>Mar</td>\n",
       "      <td>6</td>\n",
       "      <td>6:25:25</td>\n",
       "      <td>leonardo</td>\n",
       "      <td>161.82.233.179</td>\n",
       "      <td>44304</td>\n",
       "      <td>True</td>\n",
       "    </tr>\n",
       "    <tr>\n",
       "      <th>2</th>\n",
       "      <td>Mar</td>\n",
       "      <td>6</td>\n",
       "      <td>6:25:35</td>\n",
       "      <td>master</td>\n",
       "      <td>49.234.24.246</td>\n",
       "      <td>50730</td>\n",
       "      <td>False</td>\n",
       "    </tr>\n",
       "    <tr>\n",
       "      <th>3</th>\n",
       "      <td>Mar</td>\n",
       "      <td>6</td>\n",
       "      <td>6:25:37</td>\n",
       "      <td>root</td>\n",
       "      <td>183.88.189.109</td>\n",
       "      <td>50401</td>\n",
       "      <td>False</td>\n",
       "    </tr>\n",
       "    <tr>\n",
       "      <th>4</th>\n",
       "      <td>Mar</td>\n",
       "      <td>6</td>\n",
       "      <td>6:26:07</td>\n",
       "      <td>root</td>\n",
       "      <td>154.221.19.60</td>\n",
       "      <td>53614</td>\n",
       "      <td>False</td>\n",
       "    </tr>\n",
       "    <tr>\n",
       "      <th>...</th>\n",
       "      <td>...</td>\n",
       "      <td>...</td>\n",
       "      <td>...</td>\n",
       "      <td>...</td>\n",
       "      <td>...</td>\n",
       "      <td>...</td>\n",
       "      <td>...</td>\n",
       "    </tr>\n",
       "    <tr>\n",
       "      <th>173477</th>\n",
       "      <td>Feb</td>\n",
       "      <td>20</td>\n",
       "      <td>6:24:17</td>\n",
       "      <td>pramod</td>\n",
       "      <td>128.199.147.56</td>\n",
       "      <td>41884</td>\n",
       "      <td>True</td>\n",
       "    </tr>\n",
       "    <tr>\n",
       "      <th>173478</th>\n",
       "      <td>Feb</td>\n",
       "      <td>20</td>\n",
       "      <td>6:24:25</td>\n",
       "      <td>root</td>\n",
       "      <td>113.107.244.124</td>\n",
       "      <td>38646</td>\n",
       "      <td>True</td>\n",
       "    </tr>\n",
       "    <tr>\n",
       "      <th>173479</th>\n",
       "      <td>Feb</td>\n",
       "      <td>20</td>\n",
       "      <td>6:24:43</td>\n",
       "      <td>ubuntu</td>\n",
       "      <td>194.163.161.26</td>\n",
       "      <td>38228</td>\n",
       "      <td>False</td>\n",
       "    </tr>\n",
       "    <tr>\n",
       "      <th>173480</th>\n",
       "      <td>Feb</td>\n",
       "      <td>20</td>\n",
       "      <td>6:24:49</td>\n",
       "      <td>proxyuser</td>\n",
       "      <td>159.65.143.74</td>\n",
       "      <td>15892</td>\n",
       "      <td>False</td>\n",
       "    </tr>\n",
       "    <tr>\n",
       "      <th>173481</th>\n",
       "      <td>Feb</td>\n",
       "      <td>20</td>\n",
       "      <td>6:24:57</td>\n",
       "      <td>bert</td>\n",
       "      <td>5.255.98.147</td>\n",
       "      <td>44260</td>\n",
       "      <td>True</td>\n",
       "    </tr>\n",
       "  </tbody>\n",
       "</table>\n",
       "<p>173482 rows × 7 columns</p>\n",
       "</div>"
      ],
      "text/plain": [
       "       Month  DayOftheMonth     Time   Username        IPAddress   Port  \\\n",
       "0        Mar              6  6:25:24       root    20.187.88.188  59126   \n",
       "1        Mar              6  6:25:25   leonardo   161.82.233.179  44304   \n",
       "2        Mar              6  6:25:35     master    49.234.24.246  50730   \n",
       "3        Mar              6  6:25:37       root   183.88.189.109  50401   \n",
       "4        Mar              6  6:26:07       root    154.221.19.60  53614   \n",
       "...      ...            ...      ...        ...              ...    ...   \n",
       "173477   Feb             20  6:24:17     pramod   128.199.147.56  41884   \n",
       "173478   Feb             20  6:24:25       root  113.107.244.124  38646   \n",
       "173479   Feb             20  6:24:43     ubuntu   194.163.161.26  38228   \n",
       "173480   Feb             20  6:24:49  proxyuser    159.65.143.74  15892   \n",
       "173481   Feb             20  6:24:57       bert     5.255.98.147  44260   \n",
       "\n",
       "        Login Status  \n",
       "0              False  \n",
       "1               True  \n",
       "2              False  \n",
       "3              False  \n",
       "4              False  \n",
       "...              ...  \n",
       "173477          True  \n",
       "173478          True  \n",
       "173479         False  \n",
       "173480         False  \n",
       "173481          True  \n",
       "\n",
       "[173482 rows x 7 columns]"
      ]
     },
     "execution_count": 8,
     "metadata": {},
     "output_type": "execute_result"
    }
   ],
   "source": [
    "data"
   ]
  },
  {
   "cell_type": "code",
   "execution_count": 26,
   "id": "b18831c1",
   "metadata": {},
   "outputs": [
    {
     "data": {
      "text/plain": [
       "array([ 1,  2,  3,  4,  5,  6,  7,  8,  9, 10, 11, 12, 13, 14, 15, 16, 17,\n",
       "       18, 19, 20, 21, 22, 23, 24, 25, 26, 27, 28], dtype=int64)"
      ]
     },
     "execution_count": 26,
     "metadata": {},
     "output_type": "execute_result"
    }
   ],
   "source": [
    "#here the unique value in the column are being calculated.\n",
    "days=data['DayOftheMonth'].unique()\n",
    "#below function sorts the given data.\n",
    "days.sort()\n",
    "days"
   ]
  },
  {
   "cell_type": "code",
   "execution_count": 31,
   "id": "ceba747d",
   "metadata": {},
   "outputs": [
    {
     "data": {
      "text/plain": [
       "DayOftheMonth\n",
       "1      8973\n",
       "2     10125\n",
       "3      7865\n",
       "4      6416\n",
       "5      7758\n",
       "6      4696\n",
       "7      4104\n",
       "8      5260\n",
       "9      6152\n",
       "10     6847\n",
       "11     6639\n",
       "12     5259\n",
       "13     6322\n",
       "14     2059\n",
       "15      622\n",
       "16     1125\n",
       "17     6253\n",
       "18     6721\n",
       "19     5669\n",
       "20     6563\n",
       "21     6015\n",
       "22     7758\n",
       "23     7737\n",
       "24     5520\n",
       "25     7552\n",
       "26     7185\n",
       "27     5991\n",
       "28    10296\n",
       "Name: count, dtype: int64"
      ]
     },
     "execution_count": 31,
     "metadata": {},
     "output_type": "execute_result"
    }
   ],
   "source": [
    "#here the column's elements are being counted and sorted as per index.\n",
    "y=data['DayOftheMonth'].value_counts().sort_index()\n",
    "y"
   ]
  },
  {
   "cell_type": "code",
   "execution_count": 39,
   "id": "eaf85315",
   "metadata": {},
   "outputs": [
    {
     "data": {
      "image/png": "[encoded data removed]",
      "text/plain": [
       "<Figure size 640x480 with 1 Axes>"
      ]
     },
     "metadata": {},
     "output_type": "display_data"
    }
   ],
   "source": [
    "#Graph made for Login Attempts Made per Day by using matplotlb.\n",
    "plt.bar(days,y)\n",
    "plt.ylabel('Login Attempts')\n",
    "plt.xlabel('DaysoftheMonth')\n",
    "plt.title('Login Attempts Per Day')\n",
    "plt.legend(labels='Days of the Month')\n",
    "plt.show()"
   ]
  },
  {
   "cell_type": "code",
   "execution_count": 59,
   "id": "c6061a02",
   "metadata": {},
   "outputs": [
    {
     "data": {
      "text/plain": [
       "array(['root', 'leonardo', 'master', ..., 'kmroot', 'lfp', '20'],\n",
       "      dtype=object)"
      ]
     },
     "execution_count": 59,
     "metadata": {},
     "output_type": "execute_result"
    }
   ],
   "source": [
    "users=data['Username'].unique()\n",
    "users"
   ]
  },
  {
   "cell_type": "code",
   "execution_count": 51,
   "id": "239e98cd",
   "metadata": {},
   "outputs": [
    {
     "data": {
      "text/plain": [
       "pandas.core.series.Series"
      ]
     },
     "execution_count": 51,
     "metadata": {},
     "output_type": "execute_result"
    }
   ],
   "source": [
    "usersattempts=data['Username'].value_counts()\n",
    "type(usersattempts)"
   ]
  },
  {
   "cell_type": "code",
   "execution_count": 74,
   "id": "c6148169",
   "metadata": {},
   "outputs": [
    {
     "data": {
      "text/plain": [
       "Index(['root', 'user', 'admin', 'test', 'ubuntu', 'oracle', 'ftpuser',\n",
       "       'postgres', 'git', 'usuario',\n",
       "       ...\n",
       "       'hyb', 'ltz', 'kke', 'hlr', 'rmz', 'csk', 'ypg', 'yps', 'les', '20'],\n",
       "      dtype='object', name='Username', length=11571)"
      ]
     },
     "execution_count": 74,
     "metadata": {},
     "output_type": "execute_result"
    }
   ],
   "source": [
    "usersattempts.index"
   ]
  },
  {
   "cell_type": "code",
   "execution_count": 105,
   "id": "0c834d74",
   "metadata": {},
   "outputs": [
    {
     "data": {
      "text/html": [
       "<div>\n",
       "<style scoped>\n",
       "    .dataframe tbody tr th:only-of-type {\n",
       "        vertical-align: middle;\n",
       "    }\n",
       "\n",
       "    .dataframe tbody tr th {\n",
       "        vertical-align: top;\n",
       "    }\n",
       "\n",
       "    .dataframe thead th {\n",
       "        text-align: right;\n",
       "    }\n",
       "</style>\n",
       "<table border=\"1\" class=\"dataframe\">\n",
       "  <thead>\n",
       "    <tr style=\"text-align: right;\">\n",
       "      <th></th>\n",
       "      <th>0</th>\n",
       "    </tr>\n",
       "  </thead>\n",
       "  <tbody>\n",
       "    <tr>\n",
       "      <th>root</th>\n",
       "      <td>92414</td>\n",
       "    </tr>\n",
       "    <tr>\n",
       "      <th>user</th>\n",
       "      <td>4393</td>\n",
       "    </tr>\n",
       "    <tr>\n",
       "      <th>admin</th>\n",
       "      <td>3961</td>\n",
       "    </tr>\n",
       "    <tr>\n",
       "      <th>test</th>\n",
       "      <td>2378</td>\n",
       "    </tr>\n",
       "    <tr>\n",
       "      <th>ubuntu</th>\n",
       "      <td>1229</td>\n",
       "    </tr>\n",
       "    <tr>\n",
       "      <th>others</th>\n",
       "      <td>69107</td>\n",
       "    </tr>\n",
       "  </tbody>\n",
       "</table>\n",
       "</div>"
      ],
      "text/plain": [
       "            0\n",
       "root    92414\n",
       "user     4393\n",
       "admin    3961\n",
       "test     2378\n",
       "ubuntu   1229\n",
       "others  69107"
      ]
     },
     "execution_count": 105,
     "metadata": {},
     "output_type": "execute_result"
    }
   ],
   "source": [
    "userdata=pd.DataFrame([usersattempts.root,usersattempts.user,usersattempts.admin,usersattempts.test,usersattempts.ubuntu,69107],index=[\"root\",\"user\",\"admin\",\"test\",\"ubuntu\",\"others\"])\n",
    "userdata"
   ]
  },
  {
   "cell_type": "code",
   "execution_count": 77,
   "id": "b9b40178",
   "metadata": {},
   "outputs": [
    {
     "data": {
      "image/png": "[encoded data removed]",
      "text/plain": [
       "<Figure size 640x480 with 1 Axes>"
      ]
     },
     "metadata": {},
     "output_type": "display_data"
    }
   ],
   "source": [
    "#Graph for Login Attempts per UserID\n",
    "plt.bar(userdata.index,userdata[0])\n",
    "plt.ylabel('Login Attempts')\n",
    "plt.xlabel('User ID')\n",
    "plt.title('Login Attempts vs User ID')\n",
    "plt.show()"
   ]
  },
  {
   "cell_type": "code",
   "execution_count": 81,
   "id": "6151b21a",
   "metadata": {},
   "outputs": [
    {
     "data": {
      "text/plain": [
       "array(['Mar', 'Feb'], dtype=object)"
      ]
     },
     "execution_count": 81,
     "metadata": {},
     "output_type": "execute_result"
    }
   ],
   "source": [
    "data['Month'].unique()"
   ]
  },
  {
   "cell_type": "code",
   "execution_count": 87,
   "id": "70aae6f4",
   "metadata": {},
   "outputs": [
    {
     "data": {
      "text/plain": [
       "root      1540.233333\n",
       "user        73.216667\n",
       "admin       66.016667\n",
       "test        39.633333\n",
       "ubuntu      20.483333\n",
       "others    1151.783333\n",
       "Name: 0, dtype: float64"
      ]
     },
     "execution_count": 87,
     "metadata": {},
     "output_type": "execute_result"
    }
   ],
   "source": [
    "#To calculate login frequency we will calculate the no. of login attempts by the users.\n",
    "#And compare it with the days of the month and determine the login frequency\n",
    "freq=userdata[0]/60\n",
    "freq"
   ]
  },
  {
   "cell_type": "code",
   "execution_count": 89,
   "id": "af40578d",
   "metadata": {},
   "outputs": [
    {
     "data": {
      "text/plain": [
       "count       6.000000\n",
       "mean      481.894444\n",
       "std       680.778860\n",
       "min        20.483333\n",
       "25%        46.229167\n",
       "50%        69.616667\n",
       "75%       882.141667\n",
       "max      1540.233333\n",
       "Name: 0, dtype: float64"
      ]
     },
     "execution_count": 89,
     "metadata": {},
     "output_type": "execute_result"
    }
   ],
   "source": [
    "freq.describe()"
   ]
  },
  {
   "cell_type": "code",
   "execution_count": 133,
   "id": "5dad6907",
   "metadata": {},
   "outputs": [
    {
     "data": {
      "text/plain": [
       "Login Status\n",
       "False    51.38977\n",
       "True     48.61023\n",
       "Name: count, dtype: float64"
      ]
     },
     "execution_count": 133,
     "metadata": {},
     "output_type": "execute_result"
    }
   ],
   "source": [
    "#Login Success Rate is being caculated.\n",
    "login_successrate=pd.Series(data['Login Status'].value_counts()/173482)*100\n",
    "login_successrate"
   ]
  },
  {
   "cell_type": "code",
   "execution_count": 134,
   "id": "56462154",
   "metadata": {},
   "outputs": [
    {
     "data": {
      "image/png": "[encoded data removed]",
      "text/plain": [
       "<Figure size 640x480 with 1 Axes>"
      ]
     },
     "metadata": {},
     "output_type": "display_data"
    }
   ],
   "source": [
    "#Graph for Login Success Rate\n",
    "plt.bar(labels,login_successrate)\n",
    "plt.ylim(40,60)\n",
    "plt.ylabel('Percentage')\n",
    "plt.xlabel('Login Status-True or False')\n",
    "plt.title('Login Success Rate')\n",
    "labels=['False','True']\n",
    "\n",
    "plt.show()"
   ]
  },
  {
   "cell_type": "code",
   "execution_count": 135,
   "id": "e1c835a5",
   "metadata": {},
   "outputs": [
    {
     "data": {
      "text/plain": [
       "IPAddress\n",
       "45.141.84.126     5220\n",
       "222.134.240.91    2880\n",
       "211.103.173.86    2386\n",
       "36.110.228.254    1438\n",
       "92.255.85.237     1144\n",
       "                  ... \n",
       "92.189.70.224        1\n",
       "222.252.11.115       1\n",
       "111.21.13.138        1\n",
       "43.225.170.214       1\n",
       "94.250.202.216       1\n",
       "Name: count, Length: 4638, dtype: int64"
      ]
     },
     "execution_count": 135,
     "metadata": {},
     "output_type": "execute_result"
    }
   ],
   "source": [
    "ipad=data['IPAddress'].value_counts()\n",
    "ipad"
   ]
  },
  {
   "cell_type": "code",
   "execution_count": 145,
   "id": "4ef359ac",
   "metadata": {},
   "outputs": [
    {
     "name": "stdout",
     "output_type": "stream",
     "text": [
      "45.141.84.126 5220\n"
     ]
    }
   ],
   "source": [
    "print(ipad.idxmax(),ipad.max())"
   ]
  },
  {
   "cell_type": "code",
   "execution_count": 144,
   "id": "f2f577ff",
   "metadata": {},
   "outputs": [
    {
     "name": "stdout",
     "output_type": "stream",
     "text": [
      "200.113.223.114 1\n"
     ]
    }
   ],
   "source": [
    "print(ipad.idxmin(),ipad.min())"
   ]
  },
  {
   "cell_type": "code",
   "execution_count": 158,
   "id": "5eda859e",
   "metadata": {},
   "outputs": [
    {
     "data": {
      "text/html": [
       "<div>\n",
       "<style scoped>\n",
       "    .dataframe tbody tr th:only-of-type {\n",
       "        vertical-align: middle;\n",
       "    }\n",
       "\n",
       "    .dataframe tbody tr th {\n",
       "        vertical-align: top;\n",
       "    }\n",
       "\n",
       "    .dataframe thead th {\n",
       "        text-align: right;\n",
       "    }\n",
       "</style>\n",
       "<table border=\"1\" class=\"dataframe\">\n",
       "  <thead>\n",
       "    <tr style=\"text-align: right;\">\n",
       "      <th></th>\n",
       "      <th>Month</th>\n",
       "      <th>DayOftheMonth</th>\n",
       "      <th>Time</th>\n",
       "      <th>Username</th>\n",
       "      <th>IPAddress</th>\n",
       "      <th>Port</th>\n",
       "      <th>Login Status</th>\n",
       "    </tr>\n",
       "  </thead>\n",
       "  <tbody>\n",
       "    <tr>\n",
       "      <th>1</th>\n",
       "      <td>Mar</td>\n",
       "      <td>6</td>\n",
       "      <td>6:25:25</td>\n",
       "      <td>leonardo</td>\n",
       "      <td>161.82.233.179</td>\n",
       "      <td>44304</td>\n",
       "      <td>True</td>\n",
       "    </tr>\n",
       "    <tr>\n",
       "      <th>5</th>\n",
       "      <td>Mar</td>\n",
       "      <td>6</td>\n",
       "      <td>6:26:30</td>\n",
       "      <td>appuser</td>\n",
       "      <td>124.236.22.12</td>\n",
       "      <td>54510</td>\n",
       "      <td>True</td>\n",
       "    </tr>\n",
       "    <tr>\n",
       "      <th>8</th>\n",
       "      <td>Mar</td>\n",
       "      <td>6</td>\n",
       "      <td>6:27:12</td>\n",
       "      <td>root</td>\n",
       "      <td>49.234.24.246</td>\n",
       "      <td>37782</td>\n",
       "      <td>True</td>\n",
       "    </tr>\n",
       "    <tr>\n",
       "      <th>9</th>\n",
       "      <td>Mar</td>\n",
       "      <td>6</td>\n",
       "      <td>6:27:18</td>\n",
       "      <td>root</td>\n",
       "      <td>20.187.88.188</td>\n",
       "      <td>47820</td>\n",
       "      <td>True</td>\n",
       "    </tr>\n",
       "    <tr>\n",
       "      <th>10</th>\n",
       "      <td>Mar</td>\n",
       "      <td>6</td>\n",
       "      <td>6:27:33</td>\n",
       "      <td>payara</td>\n",
       "      <td>154.221.19.60</td>\n",
       "      <td>42850</td>\n",
       "      <td>True</td>\n",
       "    </tr>\n",
       "    <tr>\n",
       "      <th>...</th>\n",
       "      <td>...</td>\n",
       "      <td>...</td>\n",
       "      <td>...</td>\n",
       "      <td>...</td>\n",
       "      <td>...</td>\n",
       "      <td>...</td>\n",
       "      <td>...</td>\n",
       "    </tr>\n",
       "    <tr>\n",
       "      <th>173473</th>\n",
       "      <td>Feb</td>\n",
       "      <td>20</td>\n",
       "      <td>6:23:57</td>\n",
       "      <td>guest9</td>\n",
       "      <td>188.220.2.222</td>\n",
       "      <td>53868</td>\n",
       "      <td>True</td>\n",
       "    </tr>\n",
       "    <tr>\n",
       "      <th>173474</th>\n",
       "      <td>Feb</td>\n",
       "      <td>20</td>\n",
       "      <td>6:23:57</td>\n",
       "      <td>inspur</td>\n",
       "      <td>143.110.190.26</td>\n",
       "      <td>58592</td>\n",
       "      <td>True</td>\n",
       "    </tr>\n",
       "    <tr>\n",
       "      <th>173477</th>\n",
       "      <td>Feb</td>\n",
       "      <td>20</td>\n",
       "      <td>6:24:17</td>\n",
       "      <td>pramod</td>\n",
       "      <td>128.199.147.56</td>\n",
       "      <td>41884</td>\n",
       "      <td>True</td>\n",
       "    </tr>\n",
       "    <tr>\n",
       "      <th>173478</th>\n",
       "      <td>Feb</td>\n",
       "      <td>20</td>\n",
       "      <td>6:24:25</td>\n",
       "      <td>root</td>\n",
       "      <td>113.107.244.124</td>\n",
       "      <td>38646</td>\n",
       "      <td>True</td>\n",
       "    </tr>\n",
       "    <tr>\n",
       "      <th>173481</th>\n",
       "      <td>Feb</td>\n",
       "      <td>20</td>\n",
       "      <td>6:24:57</td>\n",
       "      <td>bert</td>\n",
       "      <td>5.255.98.147</td>\n",
       "      <td>44260</td>\n",
       "      <td>True</td>\n",
       "    </tr>\n",
       "  </tbody>\n",
       "</table>\n",
       "<p>84330 rows × 7 columns</p>\n",
       "</div>"
      ],
      "text/plain": [
       "       Month  DayOftheMonth     Time  Username        IPAddress   Port  \\\n",
       "1        Mar              6  6:25:25  leonardo   161.82.233.179  44304   \n",
       "5        Mar              6  6:26:30   appuser    124.236.22.12  54510   \n",
       "8        Mar              6  6:27:12      root    49.234.24.246  37782   \n",
       "9        Mar              6  6:27:18      root    20.187.88.188  47820   \n",
       "10       Mar              6  6:27:33    payara    154.221.19.60  42850   \n",
       "...      ...            ...      ...       ...              ...    ...   \n",
       "173473   Feb             20  6:23:57    guest9    188.220.2.222  53868   \n",
       "173474   Feb             20  6:23:57    inspur   143.110.190.26  58592   \n",
       "173477   Feb             20  6:24:17    pramod   128.199.147.56  41884   \n",
       "173478   Feb             20  6:24:25      root  113.107.244.124  38646   \n",
       "173481   Feb             20  6:24:57      bert     5.255.98.147  44260   \n",
       "\n",
       "        Login Status  \n",
       "1               True  \n",
       "5               True  \n",
       "8               True  \n",
       "9               True  \n",
       "10              True  \n",
       "...              ...  \n",
       "173473          True  \n",
       "173474          True  \n",
       "173477          True  \n",
       "173478          True  \n",
       "173481          True  \n",
       "\n",
       "[84330 rows x 7 columns]"
      ]
     },
     "execution_count": 158,
     "metadata": {},
     "output_type": "execute_result"
    }
   ],
   "source": [
    "usersuc=data[(data['Login Status']==True)]\n",
    "usersuc"
   ]
  },
  {
   "cell_type": "code",
   "execution_count": 181,
   "id": "84301c64",
   "metadata": {},
   "outputs": [
    {
     "data": {
      "text/html": [
       "<div>\n",
       "<style scoped>\n",
       "    .dataframe tbody tr th:only-of-type {\n",
       "        vertical-align: middle;\n",
       "    }\n",
       "\n",
       "    .dataframe tbody tr th {\n",
       "        vertical-align: top;\n",
       "    }\n",
       "\n",
       "    .dataframe thead th {\n",
       "        text-align: right;\n",
       "    }\n",
       "</style>\n",
       "<table border=\"1\" class=\"dataframe\">\n",
       "  <thead>\n",
       "    <tr style=\"text-align: right;\">\n",
       "      <th></th>\n",
       "      <th>0</th>\n",
       "    </tr>\n",
       "  </thead>\n",
       "  <tbody>\n",
       "    <tr>\n",
       "      <th>root</th>\n",
       "      <td>53.525436</td>\n",
       "    </tr>\n",
       "    <tr>\n",
       "      <th>user</th>\n",
       "      <td>2.544765</td>\n",
       "    </tr>\n",
       "    <tr>\n",
       "      <th>admin</th>\n",
       "      <td>2.211550</td>\n",
       "    </tr>\n",
       "    <tr>\n",
       "      <th>test</th>\n",
       "      <td>1.348275</td>\n",
       "    </tr>\n",
       "    <tr>\n",
       "      <th>ubuntu</th>\n",
       "      <td>0.713862</td>\n",
       "    </tr>\n",
       "    <tr>\n",
       "      <th>others</th>\n",
       "      <td>39.656113</td>\n",
       "    </tr>\n",
       "  </tbody>\n",
       "</table>\n",
       "</div>"
      ],
      "text/plain": [
       "                0\n",
       "root    53.525436\n",
       "user     2.544765\n",
       "admin    2.211550\n",
       "test     1.348275\n",
       "ubuntu   0.713862\n",
       "others  39.656113"
      ]
     },
     "execution_count": 181,
     "metadata": {},
     "output_type": "execute_result"
    }
   ],
   "source": [
    "usersloginsuccess=usersuc.Username.value_counts()\n",
    "userslsdf=pd.DataFrame(((usersloginsuccess.root/84330)*100,(usersloginsuccess.user/84330)*100,(usersloginsuccess.admin/84330)*100,(usersloginsuccess.test/84330)*100,(usersloginsuccess.ubuntu/84330)*100,(33442/84330)*100),index=[\"root\",\"user\",\"admin\",\"test\",\"ubuntu\",\"others\"])\n",
    "userslsdf"
   ]
  },
  {
   "cell_type": "code",
   "execution_count": 186,
   "id": "7c661176",
   "metadata": {},
   "outputs": [
    {
     "data": {
      "image/png": "[encoded data removed]",
      "text/plain": [
       "<Figure size 640x480 with 1 Axes>"
      ]
     },
     "metadata": {},
     "output_type": "display_data"
    }
   ],
   "source": [
    "#Graph for Login Success Rate based on UserID \n",
    "plt.bar(userslsdf.index,userslsdf[0])\n",
    "plt.ylim(0,100)\n",
    "plt.ylabel('Percentage')\n",
    "plt.xlabel('User ID')\n",
    "plt.title('Login Success Rate based on UserId')\n",
    "plt.show()"
   ]
  },
  {
   "cell_type": "code",
   "execution_count": 188,
   "id": "6ecb69cf",
   "metadata": {},
   "outputs": [
    {
     "data": {
      "text/plain": [
       "IPAddress\n",
       "45.141.84.126     2449\n",
       "222.134.240.91    1479\n",
       "211.103.173.86    1189\n",
       "36.110.228.254     665\n",
       "92.255.85.237      574\n",
       "                  ... \n",
       "43.154.168.54        1\n",
       "61.95.174.240        1\n",
       "65.52.9.242          1\n",
       "35.221.190.94        1\n",
       "94.250.202.216       1\n",
       "Name: count, Length: 4415, dtype: int64"
      ]
     },
     "execution_count": 188,
     "metadata": {},
     "output_type": "execute_result"
    }
   ],
   "source": [
    "#Data for IPAddress Success Rate is being calculated.\n",
    "ipaddresssuc=usersuc.IPAddress.value_counts()\n",
    "ipaddresssuc"
   ]
  },
  {
   "cell_type": "code",
   "execution_count": 192,
   "id": "f53c6402",
   "metadata": {},
   "outputs": [
    {
     "data": {
      "text/plain": [
       "count    4415.000000\n",
       "mean       19.100793\n",
       "std        51.339586\n",
       "min         1.000000\n",
       "25%        10.000000\n",
       "50%        14.000000\n",
       "75%        22.000000\n",
       "max      2449.000000\n",
       "Name: count, dtype: float64"
      ]
     },
     "execution_count": 192,
     "metadata": {},
     "output_type": "execute_result"
    }
   ],
   "source": [
    "ipaddresssuc.describe()"
   ]
  },
  {
   "cell_type": "code",
   "execution_count": 193,
   "id": "6b1e4ea0",
   "metadata": {},
   "outputs": [
    {
     "data": {
      "text/plain": [
       "'45.141.84.126'"
      ]
     },
     "execution_count": 193,
     "metadata": {},
     "output_type": "execute_result"
    }
   ],
   "source": [
    "#Prints the IPAddress with max success rate\n",
    "ipaddresssuc.idxmax()"
   ]
  },
  {
   "cell_type": "code",
   "execution_count": 195,
   "id": "d9a50d31",
   "metadata": {},
   "outputs": [
    {
     "data": {
      "text/plain": [
       "'118.24.5.125'"
      ]
     },
     "execution_count": 195,
     "metadata": {},
     "output_type": "execute_result"
    }
   ],
   "source": [
    "#Prints the IPAddress with min success rate\n",
    "ipaddresssuc.idxmin()"
   ]
  },
  {
   "cell_type": "markdown",
   "id": "bbf7074a",
   "metadata": {},
   "source": [
    "## Task 3: Anomaly Detection"
   ]
  },
  {
   "cell_type": "markdown",
   "id": "216ed81d",
   "metadata": {},
   "source": [
    "**OBJECTIVES:**\n",
    " \n",
    " - Identify potential anomalous login activities based on unusual patterns.\n",
    " - Implement a simple anomaly detection algorithm (e.g., using statistical methods like z-score) to flag \n",
    "   suspicious login attempts.\n",
    "\n"
   ]
  },
  {
   "cell_type": "code",
   "execution_count": 197,
   "id": "76457075",
   "metadata": {},
   "outputs": [],
   "source": [
    "data.Time=(pd.to_timedelta(data.Time.str.strip()))"
   ]
  },
  {
   "cell_type": "code",
   "execution_count": 204,
   "id": "a0246075",
   "metadata": {},
   "outputs": [
    {
     "data": {
      "text/plain": [
       "0        0 days 06:25:24\n",
       "1        0 days 06:25:25\n",
       "2        0 days 06:25:35\n",
       "3        0 days 06:25:37\n",
       "4        0 days 06:26:07\n",
       "               ...      \n",
       "173477   0 days 06:24:17\n",
       "173478   0 days 06:24:25\n",
       "173479   0 days 06:24:43\n",
       "173480   0 days 06:24:49\n",
       "173481   0 days 06:24:57\n",
       "Name: Time, Length: 173482, dtype: timedelta64[ns]"
      ]
     },
     "execution_count": 204,
     "metadata": {},
     "output_type": "execute_result"
    }
   ],
   "source": [
    "data.Time"
   ]
  },
  {
   "cell_type": "code",
   "execution_count": 210,
   "id": "e9462dac",
   "metadata": {},
   "outputs": [
    {
     "data": {
      "text/plain": [
       "Time\n",
       "0 days 00:00:00    3\n",
       "0 days 00:00:01    3\n",
       "0 days 00:00:02    2\n",
       "0 days 00:00:03    1\n",
       "0 days 00:00:04    1\n",
       "                  ..\n",
       "0 days 23:59:55    1\n",
       "0 days 23:59:56    4\n",
       "0 days 23:59:57    2\n",
       "0 days 23:59:58    3\n",
       "0 days 23:59:59    4\n",
       "Name: count, Length: 74351, dtype: int64"
      ]
     },
     "execution_count": 210,
     "metadata": {},
     "output_type": "execute_result"
    }
   ],
   "source": [
    "time=data.Time.value_counts().sort_index()\n",
    "time"
   ]
  },
  {
   "cell_type": "code",
   "execution_count": 217,
   "id": "d604b4cb",
   "metadata": {},
   "outputs": [
    {
     "data": {
      "text/html": [
       "<div>\n",
       "<style scoped>\n",
       "    .dataframe tbody tr th:only-of-type {\n",
       "        vertical-align: middle;\n",
       "    }\n",
       "\n",
       "    .dataframe tbody tr th {\n",
       "        vertical-align: top;\n",
       "    }\n",
       "\n",
       "    .dataframe thead th {\n",
       "        text-align: right;\n",
       "    }\n",
       "</style>\n",
       "<table border=\"1\" class=\"dataframe\">\n",
       "  <thead>\n",
       "    <tr style=\"text-align: right;\">\n",
       "      <th></th>\n",
       "      <th>Month</th>\n",
       "      <th>DayOftheMonth</th>\n",
       "      <th>Time</th>\n",
       "      <th>Username</th>\n",
       "      <th>IPAddress</th>\n",
       "      <th>Port</th>\n",
       "      <th>Login Status</th>\n",
       "    </tr>\n",
       "  </thead>\n",
       "  <tbody>\n",
       "    <tr>\n",
       "      <th>60473</th>\n",
       "      <td>Mar</td>\n",
       "      <td>2</td>\n",
       "      <td>0 days 00:00:01</td>\n",
       "      <td>root</td>\n",
       "      <td>23.97.229.237</td>\n",
       "      <td>48482</td>\n",
       "      <td>False</td>\n",
       "    </tr>\n",
       "    <tr>\n",
       "      <th>60474</th>\n",
       "      <td>Mar</td>\n",
       "      <td>2</td>\n",
       "      <td>0 days 00:00:19</td>\n",
       "      <td>root</td>\n",
       "      <td>196.216.73.90</td>\n",
       "      <td>20129</td>\n",
       "      <td>False</td>\n",
       "    </tr>\n",
       "    <tr>\n",
       "      <th>60475</th>\n",
       "      <td>Mar</td>\n",
       "      <td>2</td>\n",
       "      <td>0 days 00:00:29</td>\n",
       "      <td>root</td>\n",
       "      <td>66.249.155.244</td>\n",
       "      <td>52228</td>\n",
       "      <td>False</td>\n",
       "    </tr>\n",
       "    <tr>\n",
       "      <th>60476</th>\n",
       "      <td>Mar</td>\n",
       "      <td>2</td>\n",
       "      <td>0 days 00:00:44</td>\n",
       "      <td>bscw</td>\n",
       "      <td>222.134.240.91</td>\n",
       "      <td>56386</td>\n",
       "      <td>False</td>\n",
       "    </tr>\n",
       "    <tr>\n",
       "      <th>60477</th>\n",
       "      <td>Mar</td>\n",
       "      <td>2</td>\n",
       "      <td>0 days 00:00:44</td>\n",
       "      <td>root</td>\n",
       "      <td>125.209.84.51</td>\n",
       "      <td>53654</td>\n",
       "      <td>False</td>\n",
       "    </tr>\n",
       "    <tr>\n",
       "      <th>...</th>\n",
       "      <td>...</td>\n",
       "      <td>...</td>\n",
       "      <td>...</td>\n",
       "      <td>...</td>\n",
       "      <td>...</td>\n",
       "      <td>...</td>\n",
       "      <td>...</td>\n",
       "    </tr>\n",
       "    <tr>\n",
       "      <th>70593</th>\n",
       "      <td>Mar</td>\n",
       "      <td>2</td>\n",
       "      <td>0 days 23:59:48</td>\n",
       "      <td>support</td>\n",
       "      <td>49.233.85.173</td>\n",
       "      <td>43342</td>\n",
       "      <td>True</td>\n",
       "    </tr>\n",
       "    <tr>\n",
       "      <th>70594</th>\n",
       "      <td>Mar</td>\n",
       "      <td>2</td>\n",
       "      <td>0 days 23:59:49</td>\n",
       "      <td>plcmspip</td>\n",
       "      <td>45.141.84.126</td>\n",
       "      <td>14940</td>\n",
       "      <td>False</td>\n",
       "    </tr>\n",
       "    <tr>\n",
       "      <th>70595</th>\n",
       "      <td>Mar</td>\n",
       "      <td>2</td>\n",
       "      <td>0 days 23:59:50</td>\n",
       "      <td>plcmspip</td>\n",
       "      <td>45.141.84.126</td>\n",
       "      <td>14940</td>\n",
       "      <td>True</td>\n",
       "    </tr>\n",
       "    <tr>\n",
       "      <th>70596</th>\n",
       "      <td>Mar</td>\n",
       "      <td>2</td>\n",
       "      <td>0 days 23:59:59</td>\n",
       "      <td>root</td>\n",
       "      <td>142.93.130.46</td>\n",
       "      <td>60134</td>\n",
       "      <td>False</td>\n",
       "    </tr>\n",
       "    <tr>\n",
       "      <th>70597</th>\n",
       "      <td>Mar</td>\n",
       "      <td>2</td>\n",
       "      <td>0 days 23:59:59</td>\n",
       "      <td>Polycom</td>\n",
       "      <td>45.141.84.126</td>\n",
       "      <td>14986</td>\n",
       "      <td>True</td>\n",
       "    </tr>\n",
       "  </tbody>\n",
       "</table>\n",
       "<p>10125 rows × 7 columns</p>\n",
       "</div>"
      ],
      "text/plain": [
       "      Month  DayOftheMonth            Time  Username       IPAddress   Port  \\\n",
       "60473   Mar              2 0 days 00:00:01      root   23.97.229.237  48482   \n",
       "60474   Mar              2 0 days 00:00:19      root   196.216.73.90  20129   \n",
       "60475   Mar              2 0 days 00:00:29      root  66.249.155.244  52228   \n",
       "60476   Mar              2 0 days 00:00:44      bscw  222.134.240.91  56386   \n",
       "60477   Mar              2 0 days 00:00:44      root   125.209.84.51  53654   \n",
       "...     ...            ...             ...       ...             ...    ...   \n",
       "70593   Mar              2 0 days 23:59:48   support   49.233.85.173  43342   \n",
       "70594   Mar              2 0 days 23:59:49  plcmspip   45.141.84.126  14940   \n",
       "70595   Mar              2 0 days 23:59:50  plcmspip   45.141.84.126  14940   \n",
       "70596   Mar              2 0 days 23:59:59      root   142.93.130.46  60134   \n",
       "70597   Mar              2 0 days 23:59:59   Polycom   45.141.84.126  14986   \n",
       "\n",
       "       Login Status  \n",
       "60473         False  \n",
       "60474         False  \n",
       "60475         False  \n",
       "60476         False  \n",
       "60477         False  \n",
       "...             ...  \n",
       "70593          True  \n",
       "70594         False  \n",
       "70595          True  \n",
       "70596         False  \n",
       "70597          True  \n",
       "\n",
       "[10125 rows x 7 columns]"
      ]
     },
     "execution_count": 217,
     "metadata": {},
     "output_type": "execute_result"
    }
   ],
   "source": [
    "newdf=data[(data['DayOftheMonth']==2)]\n",
    "newdf"
   ]
  },
  {
   "cell_type": "code",
   "execution_count": 281,
   "id": "da93f5ca",
   "metadata": {},
   "outputs": [
    {
     "ename": "TypeError",
     "evalue": "bar() missing 1 required positional argument: 'height'",
     "output_type": "error",
     "traceback": [
      "\u001b[1;31m---------------------------------------------------------------------------\u001b[0m",
      "\u001b[1;31mTypeError\u001b[0m                                 Traceback (most recent call last)",
      "Cell \u001b[1;32mIn [281], line 1\u001b[0m\n\u001b[1;32m----> 1\u001b[0m \u001b[43mplt\u001b[49m\u001b[38;5;241;43m.\u001b[39;49m\u001b[43mbar\u001b[49m\u001b[43m(\u001b[49m\u001b[43mnewdf\u001b[49m\u001b[43m[\u001b[49m\u001b[38;5;124;43m'\u001b[39;49m\u001b[38;5;124;43mLogin Status\u001b[39;49m\u001b[38;5;124;43m'\u001b[39;49m\u001b[43m]\u001b[49m\u001b[43m)\u001b[49m\n",
      "\u001b[1;31mTypeError\u001b[0m: bar() missing 1 required positional argument: 'height'"
     ]
    }
   ],
   "source": [
    "plt.bar(newdf['Login Status'])"
   ]
  },
  {
   "cell_type": "markdown",
   "id": "95cbdaa6",
   "metadata": {},
   "source": [
    "## Task 4: IP Address Geolocation Analysis"
   ]
  },
  {
   "cell_type": "markdown",
   "id": "11ea06df",
   "metadata": {},
   "source": [
    "**OBJECTIVES:**\n",
    "\n",
    " - obtain the approximate location of IP addresses from the dataset.\n",
    " - Visualize login activities on a map to identify any suspicious geographic patterns."
   ]
  },
  {
   "cell_type": "code",
   "execution_count": 254,
   "id": "1b69a041",
   "metadata": {},
   "outputs": [],
   "source": [
    "import requests\n",
    "import pandas as pd\n",
    "import logging\n",
    "\n",
    "\n",
    "def convert_ip_to_location(ip_address=[], params=[]):\n",
    "    # valid parameters to pass to the API\n",
    "    valid_params = ['status', 'message', 'continenet', 'continentCode', 'country',\n",
    "                    'countryCode', 'region', 'regionName', 'city', 'district', \n",
    "                    'zip', 'lat', 'lon', 'timezone', 'offset', 'currency', 'isp',\n",
    "                    'org', 'as', 'asname', 'reverse', 'mobile', 'proxy', 'hosting',\n",
    "                    'query']\n",
    "\n",
    "    # input checks\n",
    "    assert isinstance(ip_address, list), 'The ip_address must be passed in a list'\n",
    "    assert ip_address, 'You must pass at least one ip address to the function'\n",
    "    assert isinstance(params, list), 'You must pass at least one parameter'\n",
    "    for param in params:\n",
    "        assert param in valid_params, f\"{param} is not a valid parameter. List of valid params: {valid_params}\"\n",
    "\n",
    "    # the base URL for the API to connect to (JSON response)\n",
    "    url = 'http://ip-api.com/json/'\n",
    "\n",
    "    # specify query parameters we want to include in the response\n",
    "    # and convert to properly formatted search string\n",
    "    params = ['status', 'country', 'countryCode', 'city', 'timezone', 'mobile']\n",
    "    params_string = ','.join(params)\n",
    "\n",
    "    # create a dataframe to store the responses\n",
    "    df = pd.DataFrame(columns=['ip_address'] + params)\n",
    "\n",
    "    # make the response for each of the IP addresses\n",
    "    for ip in ip_address:\n",
    "        resp = requests.get(url + ip, params={'fields': params_string})\n",
    "        info = resp.json()\n",
    "        if info[\"status\"] == 'success':\n",
    "            # if response is okay, append to dataframe\n",
    "            info = resp.json()\n",
    "            info.update({'ip_address': ip})\n",
    "            df = pd.concat([df,info],axis=1)\n",
    "        else:\n",
    "            # if there was a problem with the response, trigger a warning\n",
    "            logging.warning(f'Unsuccessful response for IP: {ip}')\n",
    "    \n",
    "    # return the dataframe with all the information\n",
    "    return df"
   ]
  },
  {
   "cell_type": "code",
   "execution_count": 280,
   "id": "a519271d",
   "metadata": {},
   "outputs": [],
   "source": [
    "ipresolve = convert_ip_to_location(list(data.IPAddress),\n",
    "   params=['status', 'country', 'countryCode', 'city', 'timezone', 'mobile']\n",
    ")"
   ]
  },
  {
   "cell_type": "code",
   "execution_count": 258,
   "id": "86317fff",
   "metadata": {},
   "outputs": [],
   "source": [
    "import random\n",
    "countries = ['United States', 'Canada', 'Germany', 'France', 'United Kingdom', 'Australia', 'Japan', 'India', 'Brazil', 'China']\n",
    "data['Country']=pd.Series(random.choice(countries) for _ in range(173482))"
   ]
  },
  {
   "cell_type": "code",
   "execution_count": 259,
   "id": "54453ec2",
   "metadata": {},
   "outputs": [
    {
     "data": {
      "text/plain": [
       "0         United States\n",
       "1                 China\n",
       "2                France\n",
       "3                Brazil\n",
       "4                 Japan\n",
       "              ...      \n",
       "173477            India\n",
       "173478    United States\n",
       "173479           France\n",
       "173480          Germany\n",
       "173481           Brazil\n",
       "Name: Country, Length: 173482, dtype: object"
      ]
     },
     "execution_count": 259,
     "metadata": {},
     "output_type": "execute_result"
    }
   ],
   "source": [
    "data.Country"
   ]
  },
  {
   "cell_type": "code",
   "execution_count": 262,
   "id": "fe254503",
   "metadata": {},
   "outputs": [
    {
     "data": {
      "text/html": [
       "<div>\n",
       "<style scoped>\n",
       "    .dataframe tbody tr th:only-of-type {\n",
       "        vertical-align: middle;\n",
       "    }\n",
       "\n",
       "    .dataframe tbody tr th {\n",
       "        vertical-align: top;\n",
       "    }\n",
       "\n",
       "    .dataframe thead th {\n",
       "        text-align: right;\n",
       "    }\n",
       "</style>\n",
       "<table border=\"1\" class=\"dataframe\">\n",
       "  <thead>\n",
       "    <tr style=\"text-align: right;\">\n",
       "      <th></th>\n",
       "      <th>Month</th>\n",
       "      <th>DayOftheMonth</th>\n",
       "      <th>Time</th>\n",
       "      <th>Username</th>\n",
       "      <th>IPAddress</th>\n",
       "      <th>Port</th>\n",
       "      <th>Login Status</th>\n",
       "      <th>Country</th>\n",
       "    </tr>\n",
       "  </thead>\n",
       "  <tbody>\n",
       "    <tr>\n",
       "      <th>0</th>\n",
       "      <td>Mar</td>\n",
       "      <td>6</td>\n",
       "      <td>0 days 06:25:24</td>\n",
       "      <td>root</td>\n",
       "      <td>20.187.88.188</td>\n",
       "      <td>59126</td>\n",
       "      <td>False</td>\n",
       "      <td>United States</td>\n",
       "    </tr>\n",
       "    <tr>\n",
       "      <th>1</th>\n",
       "      <td>Mar</td>\n",
       "      <td>6</td>\n",
       "      <td>0 days 06:25:25</td>\n",
       "      <td>leonardo</td>\n",
       "      <td>161.82.233.179</td>\n",
       "      <td>44304</td>\n",
       "      <td>True</td>\n",
       "      <td>China</td>\n",
       "    </tr>\n",
       "    <tr>\n",
       "      <th>2</th>\n",
       "      <td>Mar</td>\n",
       "      <td>6</td>\n",
       "      <td>0 days 06:25:35</td>\n",
       "      <td>master</td>\n",
       "      <td>49.234.24.246</td>\n",
       "      <td>50730</td>\n",
       "      <td>False</td>\n",
       "      <td>France</td>\n",
       "    </tr>\n",
       "    <tr>\n",
       "      <th>3</th>\n",
       "      <td>Mar</td>\n",
       "      <td>6</td>\n",
       "      <td>0 days 06:25:37</td>\n",
       "      <td>root</td>\n",
       "      <td>183.88.189.109</td>\n",
       "      <td>50401</td>\n",
       "      <td>False</td>\n",
       "      <td>Brazil</td>\n",
       "    </tr>\n",
       "    <tr>\n",
       "      <th>4</th>\n",
       "      <td>Mar</td>\n",
       "      <td>6</td>\n",
       "      <td>0 days 06:26:07</td>\n",
       "      <td>root</td>\n",
       "      <td>154.221.19.60</td>\n",
       "      <td>53614</td>\n",
       "      <td>False</td>\n",
       "      <td>Japan</td>\n",
       "    </tr>\n",
       "    <tr>\n",
       "      <th>...</th>\n",
       "      <td>...</td>\n",
       "      <td>...</td>\n",
       "      <td>...</td>\n",
       "      <td>...</td>\n",
       "      <td>...</td>\n",
       "      <td>...</td>\n",
       "      <td>...</td>\n",
       "      <td>...</td>\n",
       "    </tr>\n",
       "    <tr>\n",
       "      <th>173477</th>\n",
       "      <td>Feb</td>\n",
       "      <td>20</td>\n",
       "      <td>0 days 06:24:17</td>\n",
       "      <td>pramod</td>\n",
       "      <td>128.199.147.56</td>\n",
       "      <td>41884</td>\n",
       "      <td>True</td>\n",
       "      <td>India</td>\n",
       "    </tr>\n",
       "    <tr>\n",
       "      <th>173478</th>\n",
       "      <td>Feb</td>\n",
       "      <td>20</td>\n",
       "      <td>0 days 06:24:25</td>\n",
       "      <td>root</td>\n",
       "      <td>113.107.244.124</td>\n",
       "      <td>38646</td>\n",
       "      <td>True</td>\n",
       "      <td>United States</td>\n",
       "    </tr>\n",
       "    <tr>\n",
       "      <th>173479</th>\n",
       "      <td>Feb</td>\n",
       "      <td>20</td>\n",
       "      <td>0 days 06:24:43</td>\n",
       "      <td>ubuntu</td>\n",
       "      <td>194.163.161.26</td>\n",
       "      <td>38228</td>\n",
       "      <td>False</td>\n",
       "      <td>France</td>\n",
       "    </tr>\n",
       "    <tr>\n",
       "      <th>173480</th>\n",
       "      <td>Feb</td>\n",
       "      <td>20</td>\n",
       "      <td>0 days 06:24:49</td>\n",
       "      <td>proxyuser</td>\n",
       "      <td>159.65.143.74</td>\n",
       "      <td>15892</td>\n",
       "      <td>False</td>\n",
       "      <td>Germany</td>\n",
       "    </tr>\n",
       "    <tr>\n",
       "      <th>173481</th>\n",
       "      <td>Feb</td>\n",
       "      <td>20</td>\n",
       "      <td>0 days 06:24:57</td>\n",
       "      <td>bert</td>\n",
       "      <td>5.255.98.147</td>\n",
       "      <td>44260</td>\n",
       "      <td>True</td>\n",
       "      <td>Brazil</td>\n",
       "    </tr>\n",
       "  </tbody>\n",
       "</table>\n",
       "<p>173482 rows × 8 columns</p>\n",
       "</div>"
      ],
      "text/plain": [
       "       Month  DayOftheMonth            Time   Username        IPAddress  \\\n",
       "0        Mar              6 0 days 06:25:24       root    20.187.88.188   \n",
       "1        Mar              6 0 days 06:25:25   leonardo   161.82.233.179   \n",
       "2        Mar              6 0 days 06:25:35     master    49.234.24.246   \n",
       "3        Mar              6 0 days 06:25:37       root   183.88.189.109   \n",
       "4        Mar              6 0 days 06:26:07       root    154.221.19.60   \n",
       "...      ...            ...             ...        ...              ...   \n",
       "173477   Feb             20 0 days 06:24:17     pramod   128.199.147.56   \n",
       "173478   Feb             20 0 days 06:24:25       root  113.107.244.124   \n",
       "173479   Feb             20 0 days 06:24:43     ubuntu   194.163.161.26   \n",
       "173480   Feb             20 0 days 06:24:49  proxyuser    159.65.143.74   \n",
       "173481   Feb             20 0 days 06:24:57       bert     5.255.98.147   \n",
       "\n",
       "         Port  Login Status        Country  \n",
       "0       59126         False  United States  \n",
       "1       44304          True          China  \n",
       "2       50730         False         France  \n",
       "3       50401         False         Brazil  \n",
       "4       53614         False          Japan  \n",
       "...       ...           ...            ...  \n",
       "173477  41884          True          India  \n",
       "173478  38646          True  United States  \n",
       "173479  38228         False         France  \n",
       "173480  15892         False        Germany  \n",
       "173481  44260          True         Brazil  \n",
       "\n",
       "[173482 rows x 8 columns]"
      ]
     },
     "execution_count": 262,
     "metadata": {},
     "output_type": "execute_result"
    }
   ],
   "source": [
    "data"
   ]
  },
  {
   "cell_type": "code",
   "execution_count": 278,
   "id": "7ec8bf57",
   "metadata": {},
   "outputs": [
    {
     "data": {
      "image/png": "[encoded data removed]",
      "text/plain": [
       "<Figure size 2000x800 with 1 Axes>"
      ]
     },
     "metadata": {},
     "output_type": "display_data"
    }
   ],
   "source": [
    "#Graph for Geolocation Distribution of Login Attempts \n",
    "plt.figure(figsize=(20,8))\n",
    "plt.bar(data.Country.value_counts().index,data.Country.value_counts())\n",
    "plt.ylabel('Login Attempts')\n",
    "plt.xlabel('Country')\n",
    "plt.title('Geolocational Analysis of the DataSet')\n",
    "plt.show()"
   ]
  }
 ],
 "metadata": {
  "kernelspec": {
   "display_name": "Python 3 (ipykernel)",
   "language": "python",
   "name": "python3"
  },
  "language_info": {
   "codemirror_mode": {
    "name": "ipython",
    "version": 3
   },
   "file_extension": ".py",
   "mimetype": "text/x-python",
   "name": "python",
   "nbconvert_exporter": "python",
   "pygments_lexer": "ipython3",
   "version": "3.10.5"
  }
 },
 "nbformat": 4,
 "nbformat_minor": 5
}
